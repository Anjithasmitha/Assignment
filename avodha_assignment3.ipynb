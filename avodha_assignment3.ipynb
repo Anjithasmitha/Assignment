{
  "nbformat": 4,
  "nbformat_minor": 0,
  "metadata": {
    "colab": {
      "name": "avodha_assignment3",
      "provenance": [],
      "collapsed_sections": []
    },
    "kernelspec": {
      "name": "python3",
      "display_name": "Python 3"
    },
    "language_info": {
      "name": "python"
    }
  },
  "cells": [
    {
      "cell_type": "markdown",
      "source": [
        "# \n",
        "ASSIGNMENT 3"
      ],
      "metadata": {
        "id": "A1VdKFa3PTSk"
      }
    },
    {
      "cell_type": "markdown",
      "source": [
        "1. L=[1,23,’hello’,1] print(type(L))\n",
        "\n",
        "   a)list\n",
        "\n",
        "   b)integer\n",
        "\n",
        "   c)string\n",
        "\n",
        "   d)None of the above"
      ],
      "metadata": {
        "id": "8ZlAjznQQAdf"
      }
    },
    {
      "cell_type": "code",
      "execution_count": 1,
      "metadata": {
        "colab": {
          "base_uri": "https://localhost:8080/"
        },
        "id": "V6uR7Z7EPRka",
        "outputId": "6001b973-d0b0-49c4-ca8f-c1252a132659"
      },
      "outputs": [
        {
          "output_type": "stream",
          "name": "stdout",
          "text": [
            "<class 'list'>\n"
          ]
        }
      ],
      "source": [
        "L=[1,23,'hello',1] \n",
        "print(type(L))"
      ]
    },
    {
      "cell_type": "markdown",
      "source": [
        "2. L=[10,20,30]\n",
        "\n",
        "print(L[1]*L[-1])\n",
        "\n",
        "  a)Error\n",
        "\n",
        "  b)300\n",
        "\n",
        "  c)200\n",
        "\n",
        "  d)600"
      ],
      "metadata": {
        "id": "Gcpe5QSkQEXX"
      }
    },
    {
      "cell_type": "code",
      "source": [
        "L=[10,20,30]\n",
        "print(L[1]*L[-1])"
      ],
      "metadata": {
        "colab": {
          "base_uri": "https://localhost:8080/"
        },
        "id": "RKVa4GCZPrF7",
        "outputId": "a9a7f896-1eb8-477b-8f80-040728136769"
      },
      "execution_count": 2,
      "outputs": [
        {
          "output_type": "stream",
          "name": "stdout",
          "text": [
            "600\n"
          ]
        }
      ]
    },
    {
      "cell_type": "markdown",
      "source": [
        "3. Find the minimum and maximum values of given list?\n",
        "my_list=[34,45,563,435,656,435,767,34,5676,45,2,2,2,3556,65]"
      ],
      "metadata": {
        "id": "fELFPQhXQN6j"
      }
    },
    {
      "cell_type": "code",
      "source": [
        "my_list=[34,45,563,435,656,435,767,34,5676,45,2,2,2,3556,65]\n",
        "print(\"minimum element in the list is : \",min(my_list))\n",
        "print(\"maximum element in the list is : \",max(my_list))"
      ],
      "metadata": {
        "colab": {
          "base_uri": "https://localhost:8080/"
        },
        "id": "821wky7gPrNC",
        "outputId": "192f17f9-c5e1-4a94-ea5a-f71a32044bf0"
      },
      "execution_count": 3,
      "outputs": [
        {
          "output_type": "stream",
          "name": "stdout",
          "text": [
            "minimum element in the list is :  2\n",
            "maximum element in the list is :  5676\n"
          ]
        }
      ]
    },
    {
      "cell_type": "markdown",
      "source": [
        "4. Write a python program to get the product of all elements in a list?"
      ],
      "metadata": {
        "id": "Nds43hAeQu6D"
      }
    },
    {
      "cell_type": "code",
      "source": [
        "prod=1\n",
        "ls=[34,45,63,34,56,45,2]\n",
        "for i in  ls:\n",
        "  prod=prod*i\n",
        "print(\"product of elements in list is :\",prod)"
      ],
      "metadata": {
        "colab": {
          "base_uri": "https://localhost:8080/"
        },
        "id": "VAzHD9HmQuL5",
        "outputId": "08454670-0ad4-4bbc-be39-68895f338f4d"
      },
      "execution_count": 4,
      "outputs": [
        {
          "output_type": "stream",
          "name": "stdout",
          "text": [
            "product of elements in list is : 16517390400\n"
          ]
        }
      ]
    },
    {
      "cell_type": "markdown",
      "source": [
        "5. Write a Python program to count the number of strings where the string length is 2 or more and the first and last character are same from a given list of strings(create your own list and do the rest)?"
      ],
      "metadata": {
        "id": "dBzr0Ww0RYwl"
      }
    },
    {
      "cell_type": "code",
      "source": [
        "l=['amma','a','apple','v','323','1221','mango','987']\n",
        "c=0\n",
        "for i in l:\n",
        " \n",
        "  if len(i)>=2 and i[0]==i[-1] :\n",
        "    c=c+1\n",
        "print(c)\n",
        "\n"
      ],
      "metadata": {
        "colab": {
          "base_uri": "https://localhost:8080/"
        },
        "id": "59Ea6OxIPrSB",
        "outputId": "a90141c2-4257-4e11-a70b-538fc7ed59c0"
      },
      "execution_count": 5,
      "outputs": [
        {
          "output_type": "stream",
          "name": "stdout",
          "text": [
            "3\n"
          ]
        }
      ]
    },
    {
      "cell_type": "markdown",
      "source": [
        "6. Write a program to remove the duplicates from the given list?\n",
        "\n",
        "samp_list = [10, 20, 30, 20, 10, 50, 60, 40, 80, 50, 40]"
      ],
      "metadata": {
        "id": "mB782U0lT6RM"
      }
    },
    {
      "cell_type": "code",
      "source": [
        "samp_list = [10, 20, 30, 20, 10, 50, 60, 40, 80, 50, 40]\n",
        "samp=[]\n",
        "for i in samp_list :\n",
        "  if i not in samp:\n",
        "    samp.append(i)\n",
        "print(samp)\n"
      ],
      "metadata": {
        "colab": {
          "base_uri": "https://localhost:8080/"
        },
        "id": "kkSde2E1T7xp",
        "outputId": "43ac5df5-a1bd-4e6d-96c1-8922156800f7"
      },
      "execution_count": 6,
      "outputs": [
        {
          "output_type": "stream",
          "name": "stdout",
          "text": [
            "[10, 20, 30, 50, 60, 40, 80]\n"
          ]
        }
      ]
    }
  ]
}