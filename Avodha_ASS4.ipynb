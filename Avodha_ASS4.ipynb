{
  "nbformat": 4,
  "nbformat_minor": 0,
  "metadata": {
    "colab": {
      "name": "Avodha_ASS4.ipynb",
      "provenance": [],
      "collapsed_sections": []
    },
    "kernelspec": {
      "name": "python3",
      "display_name": "Python 3"
    },
    "language_info": {
      "name": "python"
    }
  },
  "cells": [
    {
      "cell_type": "markdown",
      "source": [
        "# New Section"
      ],
      "metadata": {
        "id": "RRrqLF1Geny9"
      }
    },
    {
      "cell_type": "markdown",
      "source": [
        "Create a list which consist of tuples\n"
      ],
      "metadata": {
        "id": "90R8w6tgep5F"
      }
    },
    {
      "cell_type": "code",
      "execution_count": 9,
      "metadata": {
        "colab": {
          "base_uri": "https://localhost:8080/"
        },
        "id": "iMqNq6MhemZe",
        "outputId": "0addaad7-4802-415f-cde7-b30656b19331"
      },
      "outputs": [
        {
          "output_type": "execute_result",
          "data": {
            "text/plain": [
              "[1, 2, (3, 4), ('a', 'bc'), 5]"
            ]
          },
          "metadata": {},
          "execution_count": 9
        }
      ],
      "source": [
        "l=[1,2,(3,4),(\"a\",\"bc\"),5]\n",
        "l"
      ]
    },
    {
      "cell_type": "markdown",
      "source": [
        "create a tuple from multiple data types?\n"
      ],
      "metadata": {
        "id": "SgKgZ6CwexEs"
      }
    },
    {
      "cell_type": "code",
      "source": [
        "tup=(1,2,'a',1.23,'abs',False)\n",
        "tup"
      ],
      "metadata": {
        "colab": {
          "base_uri": "https://localhost:8080/"
        },
        "id": "Ptbuyo99fNkZ",
        "outputId": "66ea64d7-a44a-4a0b-af63-4ca7a13e3b96"
      },
      "execution_count": 10,
      "outputs": [
        {
          "output_type": "execute_result",
          "data": {
            "text/plain": [
              "(1, 2, 'a', 1.23, 'abs', False)"
            ]
          },
          "metadata": {},
          "execution_count": 10
        }
      ]
    },
    {
      "cell_type": "markdown",
      "source": [
        "create a tuple which contains numbers from 1 to 20 and replace every even values with letter ‘e’ ?"
      ],
      "metadata": {
        "id": "I9yE9N_Jf73K"
      }
    },
    {
      "cell_type": "code",
      "source": [
        "l=[]\n",
        "for i in range(1,21):\n",
        "  l.append(i)\n",
        "t=tuple(l)\n",
        "print(\"the initial tuple is:\\n\")\n",
        "print(t,\"\\n\")\n",
        "print(\"the final tuple is:\\n\")\n",
        "for i in range(1,21):\n",
        "  if(i%2==0):\n",
        "    print(\"e\",end=\" \")\n",
        "  else:\n",
        "    print(i,end=\" \")\n"
      ],
      "metadata": {
        "colab": {
          "base_uri": "https://localhost:8080/"
        },
        "id": "OkS1uu29f_wk",
        "outputId": "600328b7-dc70-4ec1-b973-7bd2738dfc9e"
      },
      "execution_count": 11,
      "outputs": [
        {
          "output_type": "stream",
          "name": "stdout",
          "text": [
            "the initial tuple is:\n",
            "\n",
            "(1, 2, 3, 4, 5, 6, 7, 8, 9, 10, 11, 12, 13, 14, 15, 16, 17, 18, 19, 20) \n",
            "\n",
            "the final tuple is:\n",
            "\n",
            "1 e 3 e 5 e 7 e 9 e 11 e 13 e 15 e 17 e 19 e "
          ]
        }
      ]
    },
    {
      "cell_type": "code",
      "source": [
        "t= (1, 2, 3, 4, 5, 6, 7, 8, 9, 10, 11, 12, 13, 14, 15, 16, 17, 18, 19, 20)\n",
        "print(\"the initial tuple is:\\n\")\n",
        "print(t,\"\\n\")\n",
        "print(\"the final tuple is:\\n\")\n",
        "for i in range(1,21):\n",
        "  if(i%2==0):\n",
        "    print(\"e\",end=\" \")\n",
        "  else:\n",
        "    print(i,end=\" \")"
      ],
      "metadata": {
        "colab": {
          "base_uri": "https://localhost:8080/"
        },
        "id": "vHiY8RXAiOCl",
        "outputId": "4187c420-26c8-438e-d051-7d29ce2c4198"
      },
      "execution_count": 12,
      "outputs": [
        {
          "output_type": "stream",
          "name": "stdout",
          "text": [
            "the initial tuple is:\n",
            "\n",
            "(1, 2, 3, 4, 5, 6, 7, 8, 9, 10, 11, 12, 13, 14, 15, 16, 17, 18, 19, 20) \n",
            "\n",
            "the final tuple is:\n",
            "\n",
            "1 e 3 e 5 e 7 e 9 e 11 e 13 e 15 e 17 e 19 e "
          ]
        }
      ]
    },
    {
      "cell_type": "markdown",
      "source": [
        "\n",
        "create a tuple with months in a year and add/append names of days in a week into it?"
      ],
      "metadata": {
        "id": "PucaOZVbfEUg"
      }
    },
    {
      "cell_type": "code",
      "source": [
        "year=(\"January\", \"February\", \"March\", \"April\", \"May\", \"June\", \"July\", \"August\", \"September\", \"October\", \"November\", \"December\")\n",
        "ye=list(year)\n",
        "#append is used only to add one element\n",
        "ye.append(\"sunday\")\n",
        "\n",
        "#append is used to add more than one element\n",
        "ye.extend((\"monday\",\"tuesday\",\"wednesday\",\"thursday\",\"friday\",\"saturday\"))\n",
        "print(tuple(ye))"
      ],
      "metadata": {
        "colab": {
          "base_uri": "https://localhost:8080/"
        },
        "id": "vC4elPFvkUYd",
        "outputId": "079f7e4d-d378-4484-801b-7d8cb3fed448"
      },
      "execution_count": 21,
      "outputs": [
        {
          "output_type": "stream",
          "name": "stdout",
          "text": [
            "('January', 'February', 'March', 'April', 'May', 'June', 'July', 'August', 'September', 'October', 'November', 'December', 'sunday', 'monday', 'tuesday', 'wednesday', 'thursday', 'friday', 'saturday')\n"
          ]
        }
      ]
    },
    {
      "cell_type": "markdown",
      "source": [
        "tuple is immutable.so we cant able to add or append contents into it"
      ],
      "metadata": {
        "id": "RArQpEXCCG1r"
      }
    }
  ]
}