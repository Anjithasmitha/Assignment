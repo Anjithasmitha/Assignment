{
  "nbformat": 4,
  "nbformat_minor": 0,
  "metadata": {
    "colab": {
      "name": "Avodha_Assig_ String",
      "provenance": []
    },
    "kernelspec": {
      "name": "python3",
      "display_name": "Python 3"
    },
    "language_info": {
      "name": "python"
    }
  },
  "cells": [
    {
      "cell_type": "markdown",
      "source": [
        "#Assignment – String"
      ],
      "metadata": {
        "id": "1cCZhqTZPFvs"
      }
    },
    {
      "cell_type": "markdown",
      "source": [
        "1) Write a Python program to reverse a word after accepting the input from the user?\n",
        "\n",
        "Sample:\n",
        "\n",
        "Input: Avodha\n",
        "\n",
        "Ouput:ahdovA\n",
        "\n"
      ],
      "metadata": {
        "id": "yqTdEzwaPBAJ"
      }
    },
    {
      "cell_type": "code",
      "source": [
        "word=input(\"enter your string: \")\n",
        "print(word[::-1])"
      ],
      "metadata": {
        "colab": {
          "base_uri": "https://localhost:8080/"
        },
        "id": "d0lM4R0kPefD",
        "outputId": "54831e28-dd77-484c-9581-42732372e1d4"
      },
      "execution_count": 56,
      "outputs": [
        {
          "output_type": "stream",
          "name": "stdout",
          "text": [
            "enter your string: Avodha\n",
            "ahdovA\n"
          ]
        }
      ]
    },
    {
      "cell_type": "markdown",
      "source": [
        "2)Write a python program to display the sentence B after defining the variable A as shown in the following.?\n",
        "\n",
        "A = (‘sister’,’USA’)\n",
        "\n",
        "B = I have a sister and she stays at USA with her husband\n",
        "\n"
      ],
      "metadata": {
        "id": "C470bFtOPQ39"
      }
    },
    {
      "cell_type": "code",
      "execution_count": 57,
      "metadata": {
        "colab": {
          "base_uri": "https://localhost:8080/"
        },
        "id": "nf-6y1ztN1WU",
        "outputId": "c3a7e22b-6811-4510-a5d8-dce2f2fcd426"
      },
      "outputs": [
        {
          "output_type": "stream",
          "name": "stdout",
          "text": [
            " I have a sister and she stays at USA with her husband\n"
          ]
        }
      ],
      "source": [
        "A = ('sister','USA')\n",
        "B=print(f\" I have a {A[0]} and she stays at {A[1]} with her husband\")"
      ]
    },
    {
      "cell_type": "markdown",
      "source": [
        "3)Write a python program to request the program user to input two personal information (name and age). Then print out those program user personal information as same as the following output?\n",
        "\n",
        "Output is:\n",
        "\n",
        "Please input your name: Nisam\n",
        "Please input your age: 23\n",
        "Expected Answer: Hello, Nisam. You are 23 years old now. You can access to this program!\n",
        "\n"
      ],
      "metadata": {
        "id": "SQD3NLQgP9YY"
      }
    },
    {
      "cell_type": "code",
      "source": [
        "name=input(\"Please input your name: \")\n",
        "age=input(\"Please input your age: \")\n",
        "print(f'Hello, {name}. You are {age} years old now. You can access to this program!')"
      ],
      "metadata": {
        "colab": {
          "base_uri": "https://localhost:8080/"
        },
        "id": "bUhmk13nRNcR",
        "outputId": "64e12dc6-0eb1-442e-9a00-af84a18d1c74"
      },
      "execution_count": 58,
      "outputs": [
        {
          "output_type": "stream",
          "name": "stdout",
          "text": [
            "Please input your name: anu\n",
            "Please input your age: 23\n",
            "Hello, anu. You are 23 years old now. You can access to this program!\n"
          ]
        }
      ]
    },
    {
      "cell_type": "markdown",
      "source": [
        "4)write a python program to print out the names which exists in the first name list but not exist in the second set of name list as same answer in the following output ?\n",
        "\n",
        "Output is:\n",
        "\n",
        "name_list_1= “Nisam”, “Ash”, “Jason”, “Pranav” name_list_2= “Pranav”, “Jason” Answer: The names which exists in the first name list but not exist in the second set of name list : {‘Nisam’, ‘Ash’}"
      ],
      "metadata": {
        "id": "qF61fvHWRIgs"
      }
    },
    {
      "cell_type": "code",
      "source": [
        "name_list_1=['Nisam','Ash','Jason','Pranav']\n",
        "name_list_2= ['Pranav','Jason']\n",
        "l=[]\n",
        "for i in name_list_1:\n",
        "  if i not in name_list_2:  \n",
        "       l.append(i)\n",
        "print('The names which exists in the first name list but not exist in the second set of name list : ',l)"
      ],
      "metadata": {
        "colab": {
          "base_uri": "https://localhost:8080/"
        },
        "id": "Uyvie8mpSntl",
        "outputId": "2c1b61cb-8e39-46bf-9a2b-cc436f34c5c7"
      },
      "execution_count": 59,
      "outputs": [
        {
          "output_type": "stream",
          "name": "stdout",
          "text": [
            "The names which exists in the first name list but not exist in the second set of name list :  ['Nisam', 'Ash']\n"
          ]
        }
      ]
    },
    {
      "cell_type": "markdown",
      "source": [
        "5)Write a python program to generate the multiplication of string. The program shall allow user to input string and number of multiplications.\n",
        "\n",
        "Output is:\n",
        "\n",
        "string = python, number of multiplications = 3"
      ],
      "metadata": {
        "id": "3vE1a9uyUxRh"
      }
    },
    {
      "cell_type": "code",
      "source": [
        "s =input()\n",
        "num=int(input(\"enter the number of multiplications you want :\"))\n",
        "print(s*num)"
      ],
      "metadata": {
        "colab": {
          "base_uri": "https://localhost:8080/"
        },
        "id": "atHX8iNbU8yv",
        "outputId": "913c7a3b-282e-4553-a719-bc41e3a04a07"
      },
      "execution_count": 60,
      "outputs": [
        {
          "output_type": "stream",
          "name": "stdout",
          "text": [
            "pyhton\n",
            "enter the number of multiplications you want :3\n",
            "pyhtonpyhtonpyhton\n"
          ]
        }
      ]
    },
    {
      "cell_type": "markdown",
      "source": [
        "6)Write a python program to allow user to input their weight and height in order to calculate the BMI of user. [formula of BMI = weight (kg) / height (m)]?\n",
        "\n",
        "Output is:\n",
        "\n",
        "Please input your weight in kg: 50\n",
        "Please input your height in m: 1.56\n",
        "\n",
        "Your BMI is 20.55"
      ],
      "metadata": {
        "id": "EOfqmV2WUxWY"
      }
    },
    {
      "cell_type": "code",
      "source": [
        "wg=int(input(\"Please input your weight in kg: \"))\n",
        "hg=float(input(\"Please input your height in m: \"))\n",
        "b=wg/(hg**2)\n",
        "#formula of BMI = weight (kg) / height (m)^2\n",
        "BMI=round(b,2)\n",
        "print(f\"Your BMI is {BMI}\")"
      ],
      "metadata": {
        "colab": {
          "base_uri": "https://localhost:8080/"
        },
        "id": "DNbscnCmWMBN",
        "outputId": "acf69a00-b49f-46e6-baa8-0e495df23013"
      },
      "execution_count": 61,
      "outputs": [
        {
          "output_type": "stream",
          "name": "stdout",
          "text": [
            "Please input your weight in kg: 50\n",
            "Please input your height in m: 1.56\n",
            "Your BMI is 20.55\n"
          ]
        }
      ]
    },
    {
      "cell_type": "markdown",
      "source": [
        "7)Write a program to find the length of the string “Flauccinaucinihilipilification” without using len function.?"
      ],
      "metadata": {
        "id": "vGrl2Hmmdekc"
      }
    },
    {
      "cell_type": "code",
      "source": [
        "c=0\n",
        "s='Flauccinaucinihilipilification'\n",
        "for i in s:\n",
        "  c=c+1\n",
        "print(f\"The length of the string {s} is {c}\")"
      ],
      "metadata": {
        "colab": {
          "base_uri": "https://localhost:8080/"
        },
        "id": "qXL7_AXgdlfa",
        "outputId": "493950b1-2633-4ea0-a228-c8f13b0a66d7"
      },
      "execution_count": 62,
      "outputs": [
        {
          "output_type": "stream",
          "name": "stdout",
          "text": [
            "The length of the string Flauccinaucinihilipilification is 30\n"
          ]
        }
      ]
    },
    {
      "cell_type": "markdown",
      "source": [
        "8)Write a program to check if the word ‘checkmate’ is present in the “Carlsen checkmated by Vishy Anand”?"
      ],
      "metadata": {
        "id": "PkbD1BsYdk2Z"
      }
    },
    {
      "cell_type": "code",
      "source": [
        "a='Carlsen checkmated by Vishy Anand'.split()\n",
        "b=input(\"enter the word to check: \")\n",
        "#print(a)\n",
        "if b in a:\n",
        "    print(\"present\")\n",
        "else:\n",
        "    print(\"not present\")"
      ],
      "metadata": {
        "colab": {
          "base_uri": "https://localhost:8080/"
        },
        "id": "yzT6wxoneb2Q",
        "outputId": "979e0db5-c07d-4f6b-d1e5-84ca71436a9d"
      },
      "execution_count": 63,
      "outputs": [
        {
          "output_type": "stream",
          "name": "stdout",
          "text": [
            "enter the word to check: checkmated\n",
            "present\n"
          ]
        }
      ]
    },
    {
      "cell_type": "markdown",
      "source": [
        "9)Write a program to make a new string with all the consonents(A consonant is a speech sound that is not a vowel) deleted from the string “Hello, have a good day?"
      ],
      "metadata": {
        "id": "j0zRgI-3dexZ"
      }
    },
    {
      "cell_type": "code",
      "source": [
        "s=\"Hello, have a good day\"\n",
        "print(f\"The orginal string is: {s}\")\n",
        "print(f\"The string after removing consonents is :\")\n",
        "v=['a','e','i','o','u','A','E','I','O','U']\n",
        "for i in s:\n",
        "  if i not in v:\n",
        "    print(\"\",end=\"\")\n",
        "  else:\n",
        "    print(i,end=\"\")"
      ],
      "metadata": {
        "colab": {
          "base_uri": "https://localhost:8080/"
        },
        "id": "g1psv2ycf43E",
        "outputId": "b96bb8d2-872e-4cad-ad77-934a7ea7ccfd"
      },
      "execution_count": 64,
      "outputs": [
        {
          "output_type": "stream",
          "name": "stdout",
          "text": [
            "The orginal string is: Hello, have a good day\n",
            "The string after removing consonents is :\n",
            "eoaeaooa"
          ]
        }
      ]
    },
    {
      "cell_type": "markdown",
      "source": [
        "10)Write down the names of 10 of your friends in a list and then sort those in alphabetically ascending order.?"
      ],
      "metadata": {
        "id": "5-9vo2LrRDmg"
      }
    },
    {
      "cell_type": "code",
      "source": [
        "l=['midhun','priya','sruthi','vaishnavy','anuja','bijesh','arun','anu','neethu','abu']\n",
        "print(sorted(l))"
      ],
      "metadata": {
        "colab": {
          "base_uri": "https://localhost:8080/"
        },
        "id": "rAoCiLjehvD_",
        "outputId": "4770d650-e76f-4bb7-ace8-e7370ea903d5"
      },
      "execution_count": 65,
      "outputs": [
        {
          "output_type": "stream",
          "name": "stdout",
          "text": [
            "['abu', 'anu', 'anuja', 'arun', 'bijesh', 'midhun', 'neethu', 'priya', 'sruthi', 'vaishnavy']\n"
          ]
        }
      ]
    }
  ]
}